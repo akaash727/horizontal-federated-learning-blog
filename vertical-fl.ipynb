{
 "cells": [
  {
   "cell_type": "markdown",
   "metadata": {},
   "source": [
    "# Vertical FL\n",
    "\n",
    "This notebook implements vertical federated learning between 1 coordinator and 2 runners.\n",
    "\n",
    "## Important papers\n",
    "\n",
    "#### [Federated Machine Learning: Concept and Applications](https://arxiv.org/pdf/1902.04885.pdf) .\n",
    "\n",
    "Describes a simplified vertical fl protocol to train a *linear regression* model.\n",
    "\n",
    "#### [Private federated learning on vertically partitioned data via entity resolution and additively homomorphic encryption](https://arxiv.org/pdf/1711.10677.pdf) .\n",
    "\n",
    "Describes a vertical fl protocol to train a *binary logistic regression* model using an approximation of the logistic loss and gradient functions. (Implemented here).\n",
    "\n",
    "#### [A Quasi-Newton Method Based Vertical Federated Learning Framework for Logistic Regression](https://arxiv.org/pdf/1912.00513v2.pdf).\n",
    "\n",
    "A communication efficient variation of the 2nd paper."
   ]
  },
  {
   "cell_type": "code",
   "execution_count": 3,
   "metadata": {},
   "outputs": [],
   "source": [
    "import numpy as np\n",
    "import pandas as pd\n",
    "import seaborn as sns\n",
    "import phe as paillier\n",
    "from scipy.stats import pearsonr\n",
    "from time import time"
   ]
  },
  {
   "cell_type": "markdown",
   "metadata": {},
   "source": [
    "## Homomorphic encryption\n",
    "\n",
    "Making use of [this](https://github.com/data61/python-paillier) Paillier encyption library. The library also includes encoding of floating point numbers. Note that there are very efficient implementations out there, of which, [NuFHE](https://www.nucypher.com/fully-homomorphic-encryption) (GPU-accelerated fully homomorphic encryption), claims to be the fastest."
   ]
  },
  {
   "cell_type": "code",
   "execution_count": 4,
   "metadata": {},
   "outputs": [],
   "source": [
    "pub_key, pri_key = paillier.generate_paillier_keypair(n_length=256)\n",
    "\n",
    "def encrypt(pub_key, x):\n",
    "    if pub_key is None:\n",
    "        return x\n",
    "    if type(x) is np.ndarray:\n",
    "        return np.array([pub_key.encrypt(v) for v in x.tolist()])\n",
    "    elif type(x) is list:\n",
    "        return [pub_key.encrypt(v) for v in x]\n",
    "    return pub_key.encrypt(x)\n",
    "\n",
    "def decrypt(pri_key, x):\n",
    "    if pri_key is None:\n",
    "        return x\n",
    "    if type(x) is np.ndarray:\n",
    "        return np.array([pri_key.decrypt(v) for v in x])\n",
    "    elif type(x) is list:\n",
    "        return [pri_key.decrypt(v) for v in x]\n",
    "    return pri_key.decrypt(x)"
   ]
  },
  {
   "cell_type": "markdown",
   "metadata": {},
   "source": [
    "Example: add a non encrypted number (result is encrypted), multiply (aka additive), add 2 encypted numbers."
   ]
  },
  {
   "cell_type": "code",
   "execution_count": 5,
   "metadata": {},
   "outputs": [
    {
     "data": {
      "text/plain": [
       "array([140, 100])"
      ]
     },
     "execution_count": 5,
     "metadata": {},
     "output_type": "execute_result"
    }
   ],
   "source": [
    "# [101, 102, 103]\n",
    "decrypt(pri_key, encrypt(pub_key, np.array([1, 2, 3])) + 100)\n",
    "\n",
    "# [100, 200, 300]\n",
    "decrypt(pri_key, encrypt(pub_key, np.array([1, 2, 3])) * 100)\n",
    "\n",
    "# [2, 4, 6]\n",
    "decrypt(pri_key, encrypt(pub_key, np.array([1, 2, 3])) + \\\n",
    "        encrypt(pub_key, np.array([1, 2, 3])))\n",
    "\n",
    "# [140, 100]\n",
    "x = np.array([[1, 2, 3],[4, 5, 6]])\n",
    "y = encrypt(pub_key, np.array([10, 20, 30]))\n",
    "decrypt(pri_key, np.dot([[1, 2, 3], [3, 2, 1]], y))"
   ]
  },
  {
   "cell_type": "markdown",
   "metadata": {},
   "source": [
    "## Loss function\n",
    "\n",
    "Second order approximation of logistic loss.\n",
    "\n",
    "$$\\ell_H(\\theta) \\approx \\frac{1}{h}\\sum_{i \\in H}\\log2 - \\frac{1}{2}y_i\\theta^{\\top}x_i + \\frac{1}{8}(\\theta^{\\top}x_i)^2$$\n",
    "\n",
    "This is not necessary for optimisation. Instead, the coordinator will track loss over a test set $H$ - early stopping (when loss begins to climb) can then be used as to prevent model overfitting. This can also be calculated on the runner side."
   ]
  },
  {
   "cell_type": "code",
   "execution_count": 6,
   "metadata": {},
   "outputs": [],
   "source": [
    "def taylor_loss(theta, x, y):\n",
    "    wx = np.dot(x, theta)\n",
    "    return 1/x.shape[0] * np.sum(np.log(2) - 0.5 * y * wx + 0.125 * wx**2)"
   ]
  },
  {
   "cell_type": "markdown",
   "metadata": {},
   "source": [
    "## Gradient\n",
    "\n",
    "For a mini-batch $S'$.\n",
    "\n",
    "$$\\nabla\\ell_{S'}(\\theta) \\approx \\frac{1}{s'}\\sum_{i \\in S'}\\left(\\frac{1}{4}\\theta^{\\top}x_i - \\frac{1}{2}y_i\\right)x_i$$\n",
    "\n",
    "The approximation is needed since the operations need to be compatible with partial homomorphic encryption (primitive addition and multiplcation by non-encypted number by repeated addition)."
   ]
  },
  {
   "cell_type": "code",
   "execution_count": 8,
   "metadata": {},
   "outputs": [],
   "source": [
    "def taylor_gradient(theta, x, y):\n",
    "    return 1/x.shape[0] * np.dot(0.25 * np.dot(x, theta) - 0.5 * y, x)"
   ]
  },
  {
   "cell_type": "markdown",
   "metadata": {},
   "source": [
    "## Prediction\n",
    "\n",
    "The learned weights can be plugged into standard logistic function."
   ]
  },
  {
   "cell_type": "code",
   "execution_count": 9,
   "metadata": {},
   "outputs": [],
   "source": [
    "def predict_prob(theta, x):\n",
    "    return 1 / (1 + np.exp(-np.dot(x, theta)))"
   ]
  },
  {
   "cell_type": "markdown",
   "metadata": {},
   "source": [
    "## algorithm\n",
    "\n",
    "Some test data:"
   ]
  },
  {
   "cell_type": "code",
   "execution_count": 10,
   "metadata": {},
   "outputs": [],
   "source": [
    "theta = np.array([1,2,3,4])\n",
    "x = np.array([[43,33,2,15], [22,1,12,11], [1,2,3,4]])\n",
    "y = np.array([10,20,30])"
   ]
  },
  {
   "cell_type": "markdown",
   "metadata": {},
   "source": [
    "The `taylor_gradient` function will produce the following gradients operating over the entire dataset."
   ]
  },
  {
   "cell_type": "code",
   "execution_count": 11,
   "metadata": {},
   "outputs": [
    {
     "data": {
      "text/plain": [
       "array([670.25      , 426.58333333,  82.33333333, 242.41666667])"
      ]
     },
     "execution_count": 11,
     "metadata": {},
     "output_type": "execute_result"
    }
   ],
   "source": [
    "taylor_gradient(theta, x, y)"
   ]
  },
  {
   "cell_type": "markdown",
   "metadata": {},
   "source": [
    "Algorithm as described in paper (explanation later). Here, the dataset is vertically partitioned. The resulting gradient matches the gradient over the entire dataset."
   ]
  },
  {
   "cell_type": "code",
   "execution_count": 12,
   "metadata": {},
   "outputs": [
    {
     "data": {
      "text/plain": [
       "array([670.25      , 426.58333333,  82.33333333, 242.41666667])"
      ]
     },
     "execution_count": 12,
     "metadata": {},
     "output_type": "execute_result"
    }
   ],
   "source": [
    "a_features = 2\n",
    "b_features = 2\n",
    "\n",
    "a_x = x[:,:a_features]\n",
    "b_x = x[:,b_features:]\n",
    "\n",
    "# a\n",
    "a_theta = theta[:a_features]\n",
    "u = 1/4 * np.dot(a_x, a_theta) - 1/2 * y\n",
    "u = encrypt(pub_key, u)\n",
    "\n",
    "# b\n",
    "b_theta = theta[b_features:]\n",
    "v = 1/4 * np.dot(b_x, b_theta)\n",
    "w = u + v\n",
    "z_b = np.dot(w, b_x)\n",
    "\n",
    "# a\n",
    "z_a = np.dot(w, a_x)\n",
    "\n",
    "# c\n",
    "z = np.concatenate((z_a, z_b))\n",
    "z = decrypt(pri_key, z)\n",
    "1/x.shape[0] * z"
   ]
  },
  {
   "cell_type": "markdown",
   "metadata": {},
   "source": [
    "## Prototype algorithm\n",
    "First, some metrics to evaluate model predictions."
   ]
  },
  {
   "cell_type": "code",
   "execution_count": 13,
   "metadata": {},
   "outputs": [],
   "source": [
    "def metrics(preds, y):\n",
    "    tp = np.count_nonzero(np.logical_and(y == 1, y == preds))\n",
    "    fp = np.count_nonzero(np.logical_and(y == 0, y != preds))\n",
    "    tn = np.count_nonzero(np.logical_and(y == 0, y == preds))\n",
    "    fn = np.count_nonzero(np.logical_and(y == 1, y != preds))\n",
    "    precision = tp / (tp + fp)\n",
    "    recall = tp / (tp + fn)\n",
    "    accuracy = (tp + tn) / (tp + tn + fp + fn)\n",
    "    tnr = tn / (tn + fp)\n",
    "    b_acc = (recall + tnr) / 2\n",
    "    f1 = 2 * precision * recall / (precision + recall)\n",
    "    return dict(tp=tp, fp=fp, tn=tn, fn=fn,\n",
    "                pre=round(precision, 2),\n",
    "                rec=round(recall, 2),\n",
    "                acc=round(accuracy, 2),\n",
    "                b_acc=round(b_acc, 2),\n",
    "                f1=round(f1, 2))"
   ]
  },
  {
   "cell_type": "markdown",
   "metadata": {},
   "source": [
    "### Vertical FL"
   ]
  },
  {
   "cell_type": "markdown",
   "metadata": {},
   "source": [
    "#### Runner (A)\n",
    "\n",
    "* Holds a vertical partition of data. (Note that this has been pre-aligned)\n",
    "* Holds the binary labels for this data\n",
    "* Holds a reference/communication channel to Runner (B). Note that in practice, this might be a simple [request-reply](http://zguide.zeromq.org/page:all#Ask-and-Ye-Shall-Receive) pattern.\n",
    "* Has been issued with a public key (from the coordinator)\n",
    "* Executes a batch."
   ]
  },
  {
   "cell_type": "code",
   "execution_count": 14,
   "metadata": {},
   "outputs": [],
   "source": [
    "class A:\n",
    "    def __init__(self, x, y, b, pub_key=None):\n",
    "        self.x = x\n",
    "        self.y = y\n",
    "        self.b = b\n",
    "        self.features = x.shape[1]\n",
    "        self.pub_key = pub_key\n",
    "    \n",
    "    # Called by Coordinator with current model Theta for each mini-batch\n",
    "    # returns (encrypted) gradients for Runner A, Runner B.\n",
    "    def gradients(self, theta):\n",
    "        \n",
    "        # A's Theta\n",
    "        a_theta = theta[:self.features]\n",
    "        \n",
    "        # A's part of the gradient (result is a 1d vector of length = y)\n",
    "        u = 1/4 * np.dot(self.x, a_theta) - 1/2 * self.y\n",
    "        \n",
    "        # Encrypt (u) using the public key. (result is 1d vector of length = y\n",
    "        # containing encrypted+encoded values)\n",
    "        u = encrypt(self.pub_key, u)\n",
    "        \n",
    "        # A now sends the thetas and encrypted (u) to Runner B. A \"blocks\",\n",
    "        # expecting B to return it's w (needed to complete A's gradient calculation)\n",
    "        # and B's gradient.\n",
    "        w, gradient_b = self.b.gradients(theta, u)\n",
    "        \n",
    "        # A's gradient\n",
    "        gradient_a = np.dot(w, self.x)\n",
    "        \n",
    "        # Send both parts of (encrypted) gradients to the Coordinator.\n",
    "        return gradient_a, gradient_b"
   ]
  },
  {
   "cell_type": "markdown",
   "metadata": {},
   "source": [
    "#### Runner (B)\n",
    "\n",
    "* Holds a vertical partition of data\n",
    "* Does *not* contain training labels\n",
    "* Also issued with the same public key as runner (A) - Not used here, but could be used to encypt loss and send directly to Coordinator."
   ]
  },
  {
   "cell_type": "code",
   "execution_count": 15,
   "metadata": {},
   "outputs": [],
   "source": [
    "class B:\n",
    "    def __init__(self, x, pub_key=None):\n",
    "        self.x = x\n",
    "        self.features = x.shape[1]\n",
    "        self.pub_key = pub_key\n",
    "    \n",
    "    # Called by Runner (A) with current model Theta and A's\n",
    "    # (encypted) part of the gradient calculation.\n",
    "    def gradients(self, theta, u):\n",
    "        \n",
    "        # B's Theta\n",
    "        b_theta = theta[-self.features:]\n",
    "        \n",
    "        # B's part of the gradient (result is a 1d vector of length = A's y)\n",
    "        v = 1/4 * np.dot(self.x, b_theta)\n",
    "        \n",
    "        # Add A's u to B's v.\n",
    "        # Since u is encrypted, the resulting w is also encrypted.\n",
    "        w = u + v\n",
    "        \n",
    "        # Calculate B's gradient (result is encrypted since dot-product with w)\n",
    "        gradient_b = np.dot(w, self.x)\n",
    "        \n",
    "        # Send back (encypted) w and B gradient to A.\n",
    "        return w, gradient_b"
   ]
  },
  {
   "cell_type": "markdown",
   "metadata": {},
   "source": [
    "#### Coordinator (C)\n",
    "\n",
    "* Holds the complete model $\\theta$.\n",
    "* Issues public keys to Runners A and B\n",
    "* Executes the outer epoch loop."
   ]
  },
  {
   "cell_type": "code",
   "execution_count": 16,
   "metadata": {},
   "outputs": [],
   "source": [
    "class C:\n",
    "    def __init__(self, a, test_x, test_y, pri_key=None):\n",
    "        self.a = a\n",
    "        self.test_x = test_x\n",
    "        self.test_y = test_y\n",
    "        self.features = test_x.shape[1]\n",
    "        self.pri_key = pri_key\n",
    "        \n",
    "    def optimise(self, epochs, batch_size, eta, gamma):  \n",
    "        \n",
    "        # The global model. Theta = [A's Theta | B's Theta]\n",
    "        theta = np.zeros(self.features)\n",
    "        loss = []\n",
    "        \n",
    "        for epoch in range(0, epochs):\n",
    "            \n",
    "            # Coordinator requests Runner A to calculate gradients for a batch.\n",
    "            # This is a blocking call, resulting in (encypted) gradient vectors from A and B.\n",
    "            gradient_a, gradient_b = self.a.gradients(theta)\n",
    "            \n",
    "            # Concatenate the gradients to match length of Theta\n",
    "            gradients = np.concatenate((gradient_a, gradient_b))\n",
    "            \n",
    "            # Decrypt the gradients (using private key)\n",
    "            gradients = decrypt(self.pri_key, gradients)\n",
    "            \n",
    "            # Normalise (although this could be done runner side.)\n",
    "            gradients = 1/batch_size * gradients\n",
    "            \n",
    "            # Update the model weights. (assumes weight 0 = bias)\n",
    "            # Gamma = regularisation parameter.\n",
    "            theta = theta - (eta * (gradients + gamma*theta))\n",
    "            \n",
    "            # Calculate the loss (using a hold out test set.)\n",
    "            # We could stop training here if the loss begins to climb\n",
    "            # (early-stopping to avoid overfitting)\n",
    "            loss.append(taylor_loss(theta, self.test_x, self.test_y))\n",
    "            \n",
    "        return theta, loss"
   ]
  },
  {
   "cell_type": "markdown",
   "metadata": {},
   "source": [
    "### Security\n",
    "\n",
    "In this setup:\n",
    "\n",
    "* Coordinator sends (plain-text) Theta to Runner A, receives (encypted) gradients from Runner A.\n",
    "* Runner B can not see A's part of the gradient calculation (which includes A's Theta*X), it uses the encypted part in it's own calculations.\n",
    "* Runner A can not see B's part of the gradient calculation.\n",
    "* Data never leaves runners.\n",
    "* Most sensitive part is transfer of encrypted gradients which are derived from Theta,X,y dot products."
   ]
  },
  {
   "cell_type": "markdown",
   "metadata": {},
   "source": [
    "## Demo"
   ]
  },
  {
   "cell_type": "code",
   "execution_count": 17,
   "metadata": {},
   "outputs": [
    {
     "data": {
      "text/html": [
       "<div>\n",
       "<style scoped>\n",
       "    .dataframe tbody tr th:only-of-type {\n",
       "        vertical-align: middle;\n",
       "    }\n",
       "\n",
       "    .dataframe tbody tr th {\n",
       "        vertical-align: top;\n",
       "    }\n",
       "\n",
       "    .dataframe thead th {\n",
       "        text-align: right;\n",
       "    }\n",
       "</style>\n",
       "<table border=\"1\" class=\"dataframe\">\n",
       "  <thead>\n",
       "    <tr style=\"text-align: right;\">\n",
       "      <th></th>\n",
       "      <th>id</th>\n",
       "      <th>y</th>\n",
       "      <th>x0</th>\n",
       "      <th>x1</th>\n",
       "      <th>x2</th>\n",
       "      <th>x3</th>\n",
       "      <th>x4</th>\n",
       "      <th>x5</th>\n",
       "      <th>x6</th>\n",
       "      <th>x7</th>\n",
       "      <th>...</th>\n",
       "      <th>x20</th>\n",
       "      <th>x21</th>\n",
       "      <th>x22</th>\n",
       "      <th>x23</th>\n",
       "      <th>x24</th>\n",
       "      <th>x25</th>\n",
       "      <th>x26</th>\n",
       "      <th>x27</th>\n",
       "      <th>x28</th>\n",
       "      <th>x29</th>\n",
       "    </tr>\n",
       "  </thead>\n",
       "  <tbody>\n",
       "    <tr>\n",
       "      <th>0</th>\n",
       "      <td>133</td>\n",
       "      <td>1</td>\n",
       "      <td>0.254879</td>\n",
       "      <td>-1.046633</td>\n",
       "      <td>0.209656</td>\n",
       "      <td>0.074214</td>\n",
       "      <td>-0.441366</td>\n",
       "      <td>-0.377645</td>\n",
       "      <td>-0.485934</td>\n",
       "      <td>0.347072</td>\n",
       "      <td>...</td>\n",
       "      <td>-0.337360</td>\n",
       "      <td>-0.728193</td>\n",
       "      <td>-0.442587</td>\n",
       "      <td>-0.272757</td>\n",
       "      <td>-0.608018</td>\n",
       "      <td>-0.577235</td>\n",
       "      <td>-0.501126</td>\n",
       "      <td>0.143371</td>\n",
       "      <td>-0.466431</td>\n",
       "      <td>-0.554102</td>\n",
       "    </tr>\n",
       "    <tr>\n",
       "      <th>1</th>\n",
       "      <td>273</td>\n",
       "      <td>1</td>\n",
       "      <td>-1.142928</td>\n",
       "      <td>-0.781198</td>\n",
       "      <td>-1.166747</td>\n",
       "      <td>-0.923578</td>\n",
       "      <td>0.628230</td>\n",
       "      <td>-1.021418</td>\n",
       "      <td>-1.111867</td>\n",
       "      <td>-0.959523</td>\n",
       "      <td>...</td>\n",
       "      <td>-0.493639</td>\n",
       "      <td>0.348620</td>\n",
       "      <td>-0.552483</td>\n",
       "      <td>-0.526877</td>\n",
       "      <td>2.253098</td>\n",
       "      <td>-0.827620</td>\n",
       "      <td>-0.780739</td>\n",
       "      <td>-0.376997</td>\n",
       "      <td>-0.310239</td>\n",
       "      <td>0.176301</td>\n",
       "    </tr>\n",
       "    <tr>\n",
       "      <th>2</th>\n",
       "      <td>175</td>\n",
       "      <td>1</td>\n",
       "      <td>-1.451067</td>\n",
       "      <td>-1.406518</td>\n",
       "      <td>-1.456564</td>\n",
       "      <td>-1.092337</td>\n",
       "      <td>-0.708765</td>\n",
       "      <td>-1.168557</td>\n",
       "      <td>-1.305831</td>\n",
       "      <td>-1.745063</td>\n",
       "      <td>...</td>\n",
       "      <td>-0.666881</td>\n",
       "      <td>-0.779358</td>\n",
       "      <td>-0.708418</td>\n",
       "      <td>-0.637545</td>\n",
       "      <td>0.710369</td>\n",
       "      <td>-0.976454</td>\n",
       "      <td>-1.057501</td>\n",
       "      <td>-1.913447</td>\n",
       "      <td>0.795207</td>\n",
       "      <td>-0.149751</td>\n",
       "    </tr>\n",
       "    <tr>\n",
       "      <th>3</th>\n",
       "      <td>551</td>\n",
       "      <td>1</td>\n",
       "      <td>-0.879933</td>\n",
       "      <td>0.420589</td>\n",
       "      <td>-0.877527</td>\n",
       "      <td>-0.780484</td>\n",
       "      <td>-1.037534</td>\n",
       "      <td>-0.483880</td>\n",
       "      <td>-0.555498</td>\n",
       "      <td>-0.768581</td>\n",
       "      <td>...</td>\n",
       "      <td>-0.451772</td>\n",
       "      <td>0.453852</td>\n",
       "      <td>-0.431696</td>\n",
       "      <td>-0.494754</td>\n",
       "      <td>-1.182041</td>\n",
       "      <td>0.281228</td>\n",
       "      <td>0.084759</td>\n",
       "      <td>-0.252420</td>\n",
       "      <td>1.038575</td>\n",
       "      <td>0.351054</td>\n",
       "    </tr>\n",
       "    <tr>\n",
       "      <th>4</th>\n",
       "      <td>199</td>\n",
       "      <td>0</td>\n",
       "      <td>0.426758</td>\n",
       "      <td>0.723479</td>\n",
       "      <td>0.316885</td>\n",
       "      <td>0.287273</td>\n",
       "      <td>1.000835</td>\n",
       "      <td>0.962702</td>\n",
       "      <td>1.077099</td>\n",
       "      <td>1.053586</td>\n",
       "      <td>...</td>\n",
       "      <td>-0.707304</td>\n",
       "      <td>-1.026834</td>\n",
       "      <td>-0.702973</td>\n",
       "      <td>-0.460212</td>\n",
       "      <td>-0.999033</td>\n",
       "      <td>-0.531406</td>\n",
       "      <td>-0.394360</td>\n",
       "      <td>-0.728830</td>\n",
       "      <td>-0.644416</td>\n",
       "      <td>-0.688003</td>\n",
       "    </tr>\n",
       "  </tbody>\n",
       "</table>\n",
       "<p>5 rows × 32 columns</p>\n",
       "</div>"
      ],
      "text/plain": [
       "    id  y        x0        x1        x2        x3        x4        x5  \\\n",
       "0  133  1  0.254879 -1.046633  0.209656  0.074214 -0.441366 -0.377645   \n",
       "1  273  1 -1.142928 -0.781198 -1.166747 -0.923578  0.628230 -1.021418   \n",
       "2  175  1 -1.451067 -1.406518 -1.456564 -1.092337 -0.708765 -1.168557   \n",
       "3  551  1 -0.879933  0.420589 -0.877527 -0.780484 -1.037534 -0.483880   \n",
       "4  199  0  0.426758  0.723479  0.316885  0.287273  1.000835  0.962702   \n",
       "\n",
       "         x6        x7  ...       x20       x21       x22       x23       x24  \\\n",
       "0 -0.485934  0.347072  ... -0.337360 -0.728193 -0.442587 -0.272757 -0.608018   \n",
       "1 -1.111867 -0.959523  ... -0.493639  0.348620 -0.552483 -0.526877  2.253098   \n",
       "2 -1.305831 -1.745063  ... -0.666881 -0.779358 -0.708418 -0.637545  0.710369   \n",
       "3 -0.555498 -0.768581  ... -0.451772  0.453852 -0.431696 -0.494754 -1.182041   \n",
       "4  1.077099  1.053586  ... -0.707304 -1.026834 -0.702973 -0.460212 -0.999033   \n",
       "\n",
       "        x25       x26       x27       x28       x29  \n",
       "0 -0.577235 -0.501126  0.143371 -0.466431 -0.554102  \n",
       "1 -0.827620 -0.780739 -0.376997 -0.310239  0.176301  \n",
       "2 -0.976454 -1.057501 -1.913447  0.795207 -0.149751  \n",
       "3  0.281228  0.084759 -0.252420  1.038575  0.351054  \n",
       "4 -0.531406 -0.394360 -0.728830 -0.644416 -0.688003  \n",
       "\n",
       "[5 rows x 32 columns]"
      ]
     },
     "execution_count": 17,
     "metadata": {},
     "output_type": "execute_result"
    }
   ],
   "source": [
    "df = pd.read_csv('data/breast.csv')\n",
    "df.head()"
   ]
  },
  {
   "cell_type": "code",
   "execution_count": 18,
   "metadata": {},
   "outputs": [
    {
     "data": {
      "text/plain": [
       "(569, 32)"
      ]
     },
     "execution_count": 18,
     "metadata": {},
     "output_type": "execute_result"
    }
   ],
   "source": [
    "df.shape"
   ]
  },
  {
   "cell_type": "code",
   "execution_count": 19,
   "metadata": {},
   "outputs": [
    {
     "data": {
      "text/plain": [
       "31"
      ]
     },
     "execution_count": 19,
     "metadata": {},
     "output_type": "execute_result"
    }
   ],
   "source": [
    "m = df.to_numpy()\n",
    "x = m[:,2:]\n",
    "y = m[:,1]\n",
    "x = np.append(np.ones((x.shape[0], 1)), x, axis=1) # add bias column\n",
    "n_features = x.shape[1]\n",
    "n_features"
   ]
  },
  {
   "cell_type": "markdown",
   "metadata": {},
   "source": [
    "Note that in paper $y_i^2 \\forall i$."
   ]
  },
  {
   "cell_type": "code",
   "execution_count": 20,
   "metadata": {},
   "outputs": [],
   "source": [
    "yy = y.copy()\n",
    "yy[yy==0] = -1"
   ]
  },
  {
   "cell_type": "code",
   "execution_count": 21,
   "metadata": {},
   "outputs": [
    {
     "data": {
      "text/plain": [
       "array([ 0.46913881, -0.19094578, -0.17937773, -0.15553755, -0.07897883,\n",
       "       -0.17110835, -0.0707345 , -0.14143548, -0.23301292, -0.18134269,\n",
       "       -0.10780117, -0.13906282, -0.1314339 , -0.12566135, -0.06440545,\n",
       "       -0.02087393,  0.04032803, -0.07835199, -0.1637014 , -0.01596616,\n",
       "        0.13314217, -0.10549515, -0.00756715, -0.02932199,  0.06262868,\n",
       "       -0.06803751,  0.09673001,  0.09003868, -0.09642666, -0.00043795,\n",
       "        0.04499929])"
      ]
     },
     "execution_count": 21,
     "metadata": {},
     "output_type": "execute_result"
    }
   ],
   "source": [
    "pub_key, pri_key = paillier.generate_paillier_keypair(n_length=256)\n",
    "\n",
    "a_features = 16 # leaving 15 for B.\n",
    "\n",
    "epochs = 100\n",
    "eta = 0.1\n",
    "gamma = 0\n",
    "\n",
    "# Full gradient descent (aka full batch)\n",
    "batch_size = x.shape[0]\n",
    "\n",
    "# A's partition\n",
    "A_x = x[:,:a_features]\n",
    "\n",
    "# B's partition\n",
    "B_x = x[:,a_features:]\n",
    "\n",
    "# Initialse Runner B with partition of data.\n",
    "b = B(B_x, pub_key)\n",
    "\n",
    "# Initialise Runner A with parition of data, training labels and reference to B.\n",
    "a = A(A_x, yy, b, pub_key)\n",
    "\n",
    "# Initialise Coordinator C with reference to Runner A.\n",
    "# Note that test_x, test_y would usually be a seperate hold-out test-set.\n",
    "c = C(a, test_x=x, test_y=yy, pri_key=pri_key)\n",
    "\n",
    "# Optimise a model.\n",
    "vertical_model, loss = c.optimise(epochs, batch_size, eta, gamma)\n",
    "\n",
    "np.set_printoptions(suppress=True)\n",
    "vertical_model"
   ]
  },
  {
   "cell_type": "markdown",
   "metadata": {},
   "source": [
    "Loss observed during training."
   ]
  },
  {
   "cell_type": "code",
   "execution_count": 22,
   "metadata": {},
   "outputs": [
    {
     "data": {
      "text/plain": [
       "<matplotlib.axes._subplots.AxesSubplot at 0x7f10c5041ca0>"
      ]
     },
     "execution_count": 22,
     "metadata": {},
     "output_type": "execute_result"
    },
    {
     "data": {
      "image/png": "[encoded data removed]",
      "text/plain": [
       "<Figure size 432x288 with 1 Axes>"
      ]
     },
     "metadata": {
      "needs_background": "light"
     },
     "output_type": "display_data"
    }
   ],
   "source": [
    "sns.lineplot(x=range(0, len(loss)), y=loss)"
   ]
  },
  {
   "cell_type": "markdown",
   "metadata": {},
   "source": [
    "As an experiment, generate a model using the entire dataset and a binary logistic classifier."
   ]
  },
  {
   "cell_type": "code",
   "execution_count": 23,
   "metadata": {},
   "outputs": [
    {
     "name": "stdout",
     "output_type": "stream",
     "text": [
      "[0.201813]\n",
      "[[-1.45287682 -1.85818508 -1.20746532 -1.38665496 -0.86492802 -0.11907147\n",
      "  -0.98682671 -1.38768681 -1.69585597 -0.72591401 -0.57744905 -0.39146198\n",
      "  -0.56540467 -0.63920905 -0.45870082  0.67386586 -1.06658774 -1.36812051\n",
      "   0.21745875  0.52358789 -1.94387692  0.45895277 -1.12447249 -1.49149303\n",
      "  -0.93202742  1.05340374  0.89524263 -0.52435174  0.22080829  0.82125417]]\n"
     ]
    }
   ],
   "source": [
    "from sklearn import linear_model\n",
    "model = linear_model.SGDClassifier(loss='log', learning_rate='constant', eta0=eta, verbose=0, max_iter=1000)\n",
    "model.fit(x[:,1:], y)\n",
    "print(model.intercept_)\n",
    "print(model.coef_)"
   ]
  },
  {
   "cell_type": "markdown",
   "metadata": {},
   "source": [
    "Visualise the weights obtained from vertical model."
   ]
  },
  {
   "cell_type": "code",
   "execution_count": 24,
   "metadata": {},
   "outputs": [
    {
     "data": {
      "text/plain": [
       "<matplotlib.axes._subplots.AxesSubplot at 0x7f10c46abd00>"
      ]
     },
     "execution_count": 24,
     "metadata": {},
     "output_type": "execute_result"
    },
    {
     "data": {
      "image/png": "[encoded data removed]",
      "text/plain": [
       "<Figure size 432x288 with 1 Axes>"
      ]
     },
     "metadata": {
      "needs_background": "light"
     },
     "output_type": "display_data"
    }
   ],
   "source": [
    "sns.barplot(x=list(range(0, n_features-1)), y=vertical_model[1:])"
   ]
  },
  {
   "cell_type": "markdown",
   "metadata": {},
   "source": [
    "Visualise the weights obtained from the standard model."
   ]
  },
  {
   "cell_type": "code",
   "execution_count": 25,
   "metadata": {},
   "outputs": [
    {
     "data": {
      "text/plain": [
       "<matplotlib.axes._subplots.AxesSubplot at 0x7f10c45078b0>"
      ]
     },
     "execution_count": 25,
     "metadata": {},
     "output_type": "execute_result"
    },
    {
     "data": {
      "image/png": "[encoded data removed]",
      "text/plain": [
       "<Figure size 432x288 with 1 Axes>"
      ]
     },
     "metadata": {
      "needs_background": "light"
     },
     "output_type": "display_data"
    }
   ],
   "source": [
    "sns.barplot(x=list(range(0, n_features-1)), y=model.coef_[0])"
   ]
  },
  {
   "cell_type": "markdown",
   "metadata": {},
   "source": [
    "The weights are similar, indicating that both models have converged to similar hypothesis."
   ]
  },
  {
   "cell_type": "code",
   "execution_count": 26,
   "metadata": {},
   "outputs": [
    {
     "name": "stdout",
     "output_type": "stream",
     "text": [
      "pcc = 0.75 p = 0.0000 \n"
     ]
    }
   ],
   "source": [
    "print(\"pcc = {:.2f} p = {:.4f} \".format(*pearsonr(vertical_model[1:], model.coef_[0])))"
   ]
  },
  {
   "cell_type": "markdown",
   "metadata": {},
   "source": [
    "Vertical model performance"
   ]
  },
  {
   "cell_type": "code",
   "execution_count": 27,
   "metadata": {},
   "outputs": [
    {
     "name": "stdout",
     "output_type": "stream",
     "text": [
      "{'tp': 356, 'fp': 19, 'tn': 193, 'fn': 1, 'pre': 0.95, 'rec': 1.0, 'acc': 0.96, 'b_acc': 0.95, 'f1': 0.97}\n"
     ]
    }
   ],
   "source": [
    "print(metrics((predict_prob(vertical_model, x) > 0.5).astype(int), y))"
   ]
  },
  {
   "cell_type": "markdown",
   "metadata": {},
   "source": [
    "Standard model performance"
   ]
  },
  {
   "cell_type": "code",
   "execution_count": 28,
   "metadata": {},
   "outputs": [
    {
     "name": "stdout",
     "output_type": "stream",
     "text": [
      "{'tp': 356, 'fp': 6, 'tn': 206, 'fn': 1, 'pre': 0.98, 'rec': 1.0, 'acc': 0.99, 'b_acc': 0.98, 'f1': 0.99}\n"
     ]
    }
   ],
   "source": [
    "print(metrics(model.predict(x[:,1:]), y))"
   ]
  },
  {
   "cell_type": "markdown",
   "metadata": {},
   "source": [
    "### Encryption overhead"
   ]
  },
  {
   "cell_type": "code",
   "execution_count": 94,
   "metadata": {},
   "outputs": [
    {
     "name": "stdout",
     "output_type": "stream",
     "text": [
      "key size = None\n",
      "key size = 256\n",
      "key size = 512\n",
      "key size = 1024\n",
      "key size = 2048\n",
      "[0.0012736320495605469, 23.895406484603882, 70.28749990463257, 236.19560885429382, 979.9899735450745]\n"
     ]
    }
   ],
   "source": [
    "epochs = 10\n",
    "\n",
    "times = []\n",
    "for k in [None, 256, 512, 1024, 2048]:\n",
    "\n",
    "    pub_key, pri_key = paillier.generate_paillier_keypair(n_length=k) if k is not None else (None, None)\n",
    "    \n",
    "    b = B(B_x, pub_key)\n",
    "    a = A(A_x, yy, b, pub_key)\n",
    "    c = C(a, test_x=x, test_y=yy, pri_key=pri_key)\n",
    "    t = time()\n",
    "    print(\"key size = {}\".format(k))\n",
    "    c.optimise(epochs, batch_size, eta, gamma)\n",
    "    \n",
    "    times.append(time() - t)\n",
    "\n",
    "print(times)"
   ]
  },
  {
   "cell_type": "code",
   "execution_count": 95,
   "metadata": {},
   "outputs": [
    {
     "data": {
      "text/plain": [
       "<matplotlib.axes._subplots.AxesSubplot at 0x7f54a965db20>"
      ]
     },
     "execution_count": 95,
     "metadata": {},
     "output_type": "execute_result"
    },
    {
     "data": {
      "image/png": "[encoded data removed]",
      "text/plain": [
       "<Figure size 432x288 with 1 Axes>"
      ]
     },
     "metadata": {
      "needs_background": "light"
     },
     "output_type": "display_data"
    }
   ],
   "source": [
    "sns.barplot(x=list(range(0, 5)), y=times)"
   ]
  },
  {
   "cell_type": "code",
   "execution_count": null,
   "metadata": {},
   "outputs": [],
   "source": []
  }
 ],
 "metadata": {
  "kernelspec": {
   "display_name": "Python 3",
   "language": "python",
   "name": "python3"
  },
  "language_info": {
   "codemirror_mode": {
    "name": "ipython",
    "version": 3
   },
   "file_extension": ".py",
   "mimetype": "text/x-python",
   "name": "python",
   "nbconvert_exporter": "python",
   "pygments_lexer": "ipython3",
   "version": "3.8.2"
  }
 },
 "nbformat": 4,
 "nbformat_minor": 2
}
