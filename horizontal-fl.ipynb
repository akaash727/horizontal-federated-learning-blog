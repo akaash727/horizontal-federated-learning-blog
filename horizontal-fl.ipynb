{
 "cells": [
  {
   "cell_type": "markdown",
   "metadata": {},
   "source": [
    "# Federated averaging with non-IID data in multiple silos\n",
    "\n",
    "This notebook explores the robustness of model/gradient averaging with respect to varying degrees of non-iid'ness and different data partitioning schemes."
   ]
  },
  {
   "cell_type": "code",
   "execution_count": 1,
   "metadata": {},
   "outputs": [],
   "source": [
    "import warnings\n",
    "import math\n",
    "import random\n",
    "import pandas as pd\n",
    "import numpy as np\n",
    "import matplotlib.pyplot as plt\n",
    "import seaborn as sns\n",
    "from sklearn import linear_model\n",
    "from sklearn.metrics import classification_report, f1_score\n",
    "from sklearn.model_selection import train_test_split, GridSearchCV\n",
    "from sklearn.base import BaseEstimator, ClassifierMixin\n",
    "from sklearn.utils import resample\n",
    "from scipy.stats import ttest_ind\n",
    "\n",
    "warnings.filterwarnings('ignore')"
   ]
  },
  {
   "cell_type": "markdown",
   "metadata": {},
   "source": [
    "## Data"
   ]
  },
  {
   "cell_type": "code",
   "execution_count": 2,
   "metadata": {},
   "outputs": [
    {
     "data": {
      "text/html": [
       "<div>\n",
       "<style scoped>\n",
       "    .dataframe tbody tr th:only-of-type {\n",
       "        vertical-align: middle;\n",
       "    }\n",
       "\n",
       "    .dataframe tbody tr th {\n",
       "        vertical-align: top;\n",
       "    }\n",
       "\n",
       "    .dataframe thead th {\n",
       "        text-align: right;\n",
       "    }\n",
       "</style>\n",
       "<table border=\"1\" class=\"dataframe\">\n",
       "  <thead>\n",
       "    <tr style=\"text-align: right;\">\n",
       "      <th></th>\n",
       "      <th>id</th>\n",
       "      <th>y</th>\n",
       "      <th>x0</th>\n",
       "      <th>x1</th>\n",
       "      <th>x2</th>\n",
       "      <th>x3</th>\n",
       "      <th>x4</th>\n",
       "      <th>x5</th>\n",
       "      <th>x6</th>\n",
       "      <th>x7</th>\n",
       "      <th>x8</th>\n",
       "      <th>x9</th>\n",
       "    </tr>\n",
       "  </thead>\n",
       "  <tbody>\n",
       "    <tr>\n",
       "      <th>0</th>\n",
       "      <td>62555</td>\n",
       "      <td>0</td>\n",
       "      <td>-1.059625</td>\n",
       "      <td>-0.063793</td>\n",
       "      <td>-0.016145</td>\n",
       "      <td>-0.057852</td>\n",
       "      <td>0.237202</td>\n",
       "      <td>-0.024016</td>\n",
       "      <td>2.281696</td>\n",
       "      <td>-0.100419</td>\n",
       "      <td>-0.173079</td>\n",
       "      <td>-0.186066</td>\n",
       "    </tr>\n",
       "    <tr>\n",
       "      <th>1</th>\n",
       "      <td>108651</td>\n",
       "      <td>0</td>\n",
       "      <td>-0.476640</td>\n",
       "      <td>-0.063793</td>\n",
       "      <td>-0.016145</td>\n",
       "      <td>-0.057852</td>\n",
       "      <td>-0.666126</td>\n",
       "      <td>-0.023901</td>\n",
       "      <td>1.401642</td>\n",
       "      <td>-0.100419</td>\n",
       "      <td>0.556477</td>\n",
       "      <td>-0.406640</td>\n",
       "    </tr>\n",
       "    <tr>\n",
       "      <th>2</th>\n",
       "      <td>69272</td>\n",
       "      <td>0</td>\n",
       "      <td>1.077985</td>\n",
       "      <td>-0.063793</td>\n",
       "      <td>1.754131</td>\n",
       "      <td>-0.057852</td>\n",
       "      <td>1.140530</td>\n",
       "      <td>-0.022187</td>\n",
       "      <td>0.318498</td>\n",
       "      <td>-0.100419</td>\n",
       "      <td>-0.172760</td>\n",
       "      <td>0.581801</td>\n",
       "    </tr>\n",
       "    <tr>\n",
       "      <th>3</th>\n",
       "      <td>122154</td>\n",
       "      <td>0</td>\n",
       "      <td>-0.865297</td>\n",
       "      <td>-0.063793</td>\n",
       "      <td>-0.901283</td>\n",
       "      <td>-0.057852</td>\n",
       "      <td>1.140530</td>\n",
       "      <td>-0.023753</td>\n",
       "      <td>-0.696949</td>\n",
       "      <td>-0.100419</td>\n",
       "      <td>-0.173209</td>\n",
       "      <td>-0.216555</td>\n",
       "    </tr>\n",
       "    <tr>\n",
       "      <th>4</th>\n",
       "      <td>83494</td>\n",
       "      <td>0</td>\n",
       "      <td>-1.253953</td>\n",
       "      <td>-0.063793</td>\n",
       "      <td>-0.901283</td>\n",
       "      <td>-0.057852</td>\n",
       "      <td>-0.666126</td>\n",
       "      <td>-0.023336</td>\n",
       "      <td>0.386194</td>\n",
       "      <td>-0.100419</td>\n",
       "      <td>-0.173158</td>\n",
       "      <td>-0.300193</td>\n",
       "    </tr>\n",
       "  </tbody>\n",
       "</table>\n",
       "</div>"
      ],
      "text/plain": [
       "       id  y        x0        x1        x2        x3        x4        x5  \\\n",
       "0   62555  0 -1.059625 -0.063793 -0.016145 -0.057852  0.237202 -0.024016   \n",
       "1  108651  0 -0.476640 -0.063793 -0.016145 -0.057852 -0.666126 -0.023901   \n",
       "2   69272  0  1.077985 -0.063793  1.754131 -0.057852  1.140530 -0.022187   \n",
       "3  122154  0 -0.865297 -0.063793 -0.901283 -0.057852  1.140530 -0.023753   \n",
       "4   83494  0 -1.253953 -0.063793 -0.901283 -0.057852 -0.666126 -0.023336   \n",
       "\n",
       "         x6        x7        x8        x9  \n",
       "0  2.281696 -0.100419 -0.173079 -0.186066  \n",
       "1  1.401642 -0.100419  0.556477 -0.406640  \n",
       "2  0.318498 -0.100419 -0.172760  0.581801  \n",
       "3 -0.696949 -0.100419 -0.173209 -0.216555  \n",
       "4  0.386194 -0.100419 -0.173158 -0.300193  "
      ]
     },
     "execution_count": 2,
     "metadata": {},
     "output_type": "execute_result"
    }
   ],
   "source": [
    "df = pd.read_csv('data/give_credit.csv')\n",
    "df.head()"
   ]
  },
  {
   "cell_type": "code",
   "execution_count": 3,
   "metadata": {},
   "outputs": [
    {
     "name": "stdout",
     "output_type": "stream",
     "text": [
      "139974 10026\n"
     ]
    }
   ],
   "source": [
    "print(df[df.y == 0].shape[0], df[df.y == 1].shape[0])"
   ]
  },
  {
   "cell_type": "markdown",
   "metadata": {},
   "source": [
    "The data are highly unbalanced - a model outputing 0 all the time would get a reasonable score. downsample the dominant class (0) to match number of instances of class 1."
   ]
  },
  {
   "cell_type": "code",
   "execution_count": 4,
   "metadata": {},
   "outputs": [],
   "source": [
    "downsampled_0 = resample(df[df.y == 0], replace=False, n_samples=df[df.y == 1].shape[0], random_state=1337)\n",
    "df = pd.concat([downsampled_0, df[df.y == 1]])"
   ]
  },
  {
   "cell_type": "markdown",
   "metadata": {},
   "source": [
    "Can also upsample class 1, but this would introduce duplicates."
   ]
  },
  {
   "cell_type": "code",
   "execution_count": 5,
   "metadata": {},
   "outputs": [],
   "source": [
    "# upsampled_1 = resample(df[df.y == 1], replace=True, n_samples=df[df.y == 0].shape[0], random_state=1337)\n",
    "# df = pd.concat([upsampled_1, df[df.y == 0]])\n",
    "# df.shape"
   ]
  },
  {
   "cell_type": "markdown",
   "metadata": {},
   "source": [
    "Hold back 1/3 of data to test on."
   ]
  },
  {
   "cell_type": "code",
   "execution_count": 6,
   "metadata": {},
   "outputs": [],
   "source": [
    "x = df.to_numpy()\n",
    "X = x[:,2:]\n",
    "y = x[:,1]\n",
    "n_features = X.shape[1]\n",
    "X_train, X_test, y_train, y_test = train_test_split(X, y, test_size=1/3, random_state=1337)"
   ]
  },
  {
   "cell_type": "markdown",
   "metadata": {},
   "source": [
    "## Setup testing environment"
   ]
  },
  {
   "cell_type": "markdown",
   "metadata": {},
   "source": [
    "Assign `x, y` data to a number of siloed `partitions` (\"runners\") with `skew`. the skew is a measure of \"non iidness'.\n",
    "* skew = 0: the data are uniformaly distributed between runners\n",
    "* skew = 0.1: a runner will hold a minimum of 10% of labels for a class.\n",
    "* skew = 1: a runner will hold all labels for a class.\n",
    "* remaining labels are uniformaly distributed."
   ]
  },
  {
   "cell_type": "code",
   "execution_count": 7,
   "metadata": {},
   "outputs": [],
   "source": [
    "def label_distribution_skew(x, y, partitions, skew=1):\n",
    "    def runner_split(N_labels, N_runners):\n",
    "        \"\"\"number of labels to assign to n runners\"\"\"\n",
    "        runner_labels = round(max(1, N_labels / N_runners))\n",
    "        runner_split = round(max(1, N_runners / N_labels))\n",
    "        return runner_labels, runner_split\n",
    "\n",
    "    runner_data = []\n",
    "    N_labels = np.unique(y).shape[0]\n",
    "    n_labels, n_runners = runner_split(N_labels, partitions)\n",
    "    \n",
    "    runner_idx = 0\n",
    "    for label_idx in range(0, N_labels, n_labels):\n",
    "        mask = np.isin(y, range(label_idx, label_idx+n_labels))\n",
    "        subset_idx = np.argwhere(mask)[:, 0]\n",
    "        n_samples = subset_idx.shape[0]\n",
    "        sample_size = math.floor(skew*n_samples)\n",
    "        subset_idx = np.random.choice(subset_idx, sample_size, replace=False)\n",
    "        x_subset = x[subset_idx, ]\n",
    "        y_subset = y[subset_idx]   \n",
    "    \n",
    "        for partition in zip(np.array_split(x_subset, n_runners),\n",
    "                             np.array_split(y_subset, n_runners)):\n",
    "            runner_data.append(partition)\n",
    "    \n",
    "        x = np.delete(x, subset_idx, axis=0)\n",
    "        y = np.delete(y, subset_idx)    \n",
    "        runner_idx = runner_idx + n_runners\n",
    "\n",
    "    return runner_data, x, y"
   ]
  },
  {
   "cell_type": "markdown",
   "metadata": {},
   "source": [
    "Distribute data uniformaly between runners"
   ]
  },
  {
   "cell_type": "code",
   "execution_count": 8,
   "metadata": {},
   "outputs": [],
   "source": [
    "def uniform_distribution(x, y, partitions, randomise=True):\n",
    "    runner_data = []\n",
    "    rows = x.shape[0]\n",
    "    i = np.arange(rows)\n",
    "    if randomise:\n",
    "        np.random.shuffle(i)\n",
    "    for partition in zip(np.array_split(x[i, ], partitions),\n",
    "                         np.array_split(y[i], partitions)):\n",
    "        runner_data.append(partition)\n",
    "    return runner_data"
   ]
  },
  {
   "cell_type": "markdown",
   "metadata": {},
   "source": [
    "Parition data using label skew ^"
   ]
  },
  {
   "cell_type": "code",
   "execution_count": 9,
   "metadata": {},
   "outputs": [],
   "source": [
    "def partition(x, y, partitions, randomise=True, skew=1):\n",
    "    skewed_data, x_remain, y_remain = label_distribution_skew(x, y, partitions, skew)\n",
    "    uniform_data = uniform_distribution(x_remain, y_remain, partitions, randomise)\n",
    "\n",
    "    for i, skew_partition in enumerate(skewed_data):\n",
    "        x_partition = np.concatenate((uniform_data[i][0], skew_partition[0]))\n",
    "        y_partition = np.concatenate((uniform_data[i][1], skew_partition[1]))\n",
    "        if randomise:\n",
    "            i = np.arange(y_partition.shape[0])\n",
    "            np.random.shuffle(i)\n",
    "            x_partition = x_partition[i, ]\n",
    "            y_partition = y_partition[i]\n",
    "        yield x_partition, y_partition"
   ]
  },
  {
   "cell_type": "markdown",
   "metadata": {},
   "source": [
    "Example of label skew. here, there are 10 runners and 2 labels. the data are paritioned with \"90% non iid/label skew\". counts indicate the number of instances for each label, per runner."
   ]
  },
  {
   "cell_type": "code",
   "execution_count": 10,
   "metadata": {},
   "outputs": [
    {
     "name": "stdout",
     "output_type": "stream",
     "text": [
      "runner 01 -> (array([0., 1.]), array([1281,   59]))\n",
      "runner 02 -> (array([0., 1.]), array([1274,   65]))\n",
      "runner 03 -> (array([0., 1.]), array([1271,   68]))\n",
      "runner 04 -> (array([0., 1.]), array([1272,   67]))\n",
      "runner 05 -> (array([0., 1.]), array([1262,   77]))\n",
      "runner 06 -> (array([0., 1.]), array([  76, 1259]))\n",
      "runner 07 -> (array([0., 1.]), array([  57, 1278]))\n",
      "runner 08 -> (array([0., 1.]), array([  68, 1267]))\n",
      "runner 09 -> (array([0., 1.]), array([  65, 1269]))\n",
      "runner 10 -> (array([0., 1.]), array([  70, 1263]))\n"
     ]
    }
   ],
   "source": [
    "for i, (runner_x, runner_y) in enumerate(partition(X_train, y_train, partitions=10, randomise=True, skew=0.9)):\n",
    "    print(\"runner {:02d} -> {}\".format(i+1, np.unique(runner_y, return_counts=True)))"
   ]
  },
  {
   "cell_type": "markdown",
   "metadata": {},
   "source": [
    "Set the weights of a scikit-learn model."
   ]
  },
  {
   "cell_type": "code",
   "execution_count": 11,
   "metadata": {},
   "outputs": [],
   "source": [
    "def set_weights(intercept, coef, classes, model=linear_model.SGDClassifier()):\n",
    "    model.intercept_ = intercept\n",
    "    model.coef_ = coef\n",
    "    model.classes_ = classes\n",
    "    return model"
   ]
  },
  {
   "cell_type": "markdown",
   "metadata": {},
   "source": [
    "Split a dataset into batches with optional instance randomisation."
   ]
  },
  {
   "cell_type": "code",
   "execution_count": 12,
   "metadata": {},
   "outputs": [],
   "source": [
    "def batches(X, y, batch_size, randomise):\n",
    "    rows = X.shape[0]\n",
    "    i = np.arange(rows)\n",
    "    if randomise:\n",
    "        np.random.shuffle(i)\n",
    "    splits = rows / batch_size\n",
    "    for x_batch, y_batch in zip(np.array_split(X[i, ], splits),\n",
    "                                np.array_split(y[i], splits)):\n",
    "        yield x_batch, y_batch"
   ]
  },
  {
   "cell_type": "markdown",
   "metadata": {},
   "source": [
    "For each batch, update model weights."
   ]
  },
  {
   "cell_type": "code",
   "execution_count": 13,
   "metadata": {},
   "outputs": [],
   "source": [
    "def batch_update(model, X, y, classes, batch_size, randomise):\n",
    "    if batch_size is None:\n",
    "        batch_size = X.shape[0]\n",
    "    for x_batch, y_batch in batches(X, y, batch_size, randomise):\n",
    "        model.partial_fit(x_batch, y_batch, classes)\n",
    "    return model.intercept_, model.coef_"
   ]
  },
  {
   "cell_type": "markdown",
   "metadata": {},
   "source": [
    "Apply weight updates for each epoch."
   ]
  },
  {
   "cell_type": "code",
   "execution_count": 14,
   "metadata": {},
   "outputs": [],
   "source": [
    "def batch_train(model, X, y, classes, epochs, batch_size, randomise):\n",
    "    for _ in range(0, epochs):\n",
    "        batch_update(model, X, y, classes, batch_size, randomise)"
   ]
  },
  {
   "cell_type": "markdown",
   "metadata": {},
   "source": [
    "Given starting weights, train a model."
   ]
  },
  {
   "cell_type": "code",
   "execution_count": 15,
   "metadata": {},
   "outputs": [],
   "source": [
    "def train_model(intercept_init, coef_init, X, y, epochs, lr, batch_size=None, randomise=True):\n",
    "    if batch_size is None or batch_size <= 0:\n",
    "        batch_size = X.shape[0]\n",
    "    classes = np.unique(y)\n",
    "    model = linear_model.SGDClassifier(loss='log', learning_rate='constant', eta0=lr, verbose=0)\n",
    "    set_weights(intercept_init, coef_init, classes, model)\n",
    "    batch_train(model, X, y, classes, epochs, batch_size, randomise)\n",
    "    return model"
   ]
  },
  {
   "cell_type": "markdown",
   "metadata": {},
   "source": [
    "A runner encapsulates a data-silo and generates models from it's data."
   ]
  },
  {
   "cell_type": "code",
   "execution_count": 16,
   "metadata": {},
   "outputs": [],
   "source": [
    "class Runner:\n",
    "    def __init__(self, X, y):\n",
    "        self.X = X\n",
    "        self.y = y\n",
    "\n",
    "    def optimise(self, intercept_init, coef_init, hyperparameters):\n",
    "        _intercept_init = intercept_init.copy()\n",
    "        _coef_init = coef_init.copy()\n",
    "        model = train_model(_intercept_init, _coef_init, self.X, self.y, **hyperparameters)\n",
    "        return model\n",
    "        \n",
    "    def dataset_size(self):\n",
    "        return self.X.shape[0]"
   ]
  },
  {
   "cell_type": "markdown",
   "metadata": {},
   "source": [
    "Initialise a set of runners and partition the data according to some scheme."
   ]
  },
  {
   "cell_type": "code",
   "execution_count": 17,
   "metadata": {},
   "outputs": [],
   "source": [
    "def init_runners(X, y, n_runners, scheme='uniform', args=None):\n",
    "    partitions = None\n",
    "    if scheme == 'uniform':\n",
    "        partitions = zip(np.array_split(X, n_runners), np.array_split(y, n_runners))\n",
    "    elif scheme == 'label-skew':\n",
    "        partitions = partition(X, y, partitions=n_runners, randomise=args['randomise'], skew=args['skew'])\n",
    "    else:\n",
    "        raise Exception(\"partitioning scheme not supported\")\n",
    "    \n",
    "    return [Runner(x, y) for x, y in partitions]"
   ]
  },
  {
   "cell_type": "markdown",
   "metadata": {},
   "source": [
    "FederatedAveraging algorithm wrapped as a scikit-learn model. Note it is possible to perform recurrent federated averaging (federated averaging of federated averaging)."
   ]
  },
  {
   "cell_type": "code",
   "execution_count": 18,
   "metadata": {},
   "outputs": [],
   "source": [
    "class FedAvg(BaseEstimator, ClassifierMixin):\n",
    "    \n",
    "    def __init__(self,\n",
    "                 n_runners=1,\n",
    "                 sample_size=1,\n",
    "                 rounds=1,\n",
    "                 combine='weighted',\n",
    "                 partition_params={\n",
    "                     'scheme': 'uniform'\n",
    "                 },\n",
    "                 runner_hyperparams={\n",
    "                    'epochs': 1,\n",
    "                    'lr': 0.15,\n",
    "                    'batch_size': 0\n",
    "                 },\n",
    "                 intercept_init=None,\n",
    "                 coef_init=None):\n",
    "       \n",
    "        self.intercept_ = intercept_init\n",
    "        self.coef_ = coef_init\n",
    "        \n",
    "        self.n_runners = n_runners\n",
    "        self.sample_size = sample_size\n",
    "        self.rounds = rounds\n",
    "        self.combine = combine\n",
    "        \n",
    "        self.partition_params = partition_params\n",
    "        self.runner_hyperparams = runner_hyperparams\n",
    "        \n",
    "        self.models = []\n",
    "       \n",
    "    def _collect_models(self, runners, N):\n",
    "        r_intercepts, r_coefs, r_weights = [], [], []\n",
    "        self.models = []\n",
    "        for runner in random.sample(runners, k=self.sample_size):\n",
    "            r_model = runner.optimise(self.intercept_, self.coef_, self.runner_hyperparams)\n",
    "            self.models.append(r_model)\n",
    "            r_intercepts.append(r_model.intercept_)\n",
    "            r_coefs.append(r_model.coef_)\n",
    "            r_weights.append(runner.dataset_size()/N if self.combine == 'weighted' else 1/self.sample_size)\n",
    "        return r_intercepts, r_coefs, r_weights\n",
    "        \n",
    "    \n",
    "    def fit(self, X, y):\n",
    "        if self.intercept_ is None or self.coef_ is None:\n",
    "            features = X.shape[1]\n",
    "            self.intercept_ = np.zeros(1)\n",
    "            self.coef_ = np.zeros((1, features))\n",
    "        \n",
    "        N = X.shape[0]\n",
    "        runners = init_runners(X, y, self.n_runners, **self.partition_params)\n",
    "        \n",
    "        for _ in range(self.rounds):\n",
    "            r_intercepts, r_coefs, r_weights = self._collect_models(runners, N)\n",
    "            self.intercept_ = np.average(r_intercepts, axis=0, weights=r_weights)\n",
    "            self.coef_ = np.average(r_coefs, axis=0, weights=r_weights)\n",
    "        \n",
    "        self.global_model = set_weights(self.intercept_, self.coef_, np.unique(y))\n",
    "        return self\n",
    "\n",
    "    def predict(self, X):\n",
    "        if not hasattr(self, 'global_model'):\n",
    "            raise Exception(\"model not trained\")\n",
    "        return self.global_model.predict(X)"
   ]
  },
  {
   "cell_type": "markdown",
   "metadata": {},
   "source": [
    "## Test/run-through"
   ]
  },
  {
   "cell_type": "markdown",
   "metadata": {},
   "source": [
    "Training using FederatedAveraging"
   ]
  },
  {
   "cell_type": "code",
   "execution_count": 19,
   "metadata": {},
   "outputs": [
    {
     "name": "stdout",
     "output_type": "stream",
     "text": [
      "              precision    recall  f1-score   support\n",
      "\n",
      "     class_0       0.69      0.77      0.73      3330\n",
      "     class_1       0.74      0.66      0.70      3354\n",
      "\n",
      "    accuracy                           0.71      6684\n",
      "   macro avg       0.72      0.71      0.71      6684\n",
      "weighted avg       0.72      0.71      0.71      6684\n",
      "\n",
      "[-0.10895863]\n",
      "[[ 0.05393272  2.97112629  0.08322768  1.31246335 -0.18536514 -0.05428431\n",
      "  -0.57794281  3.08101534 -0.08863387 -0.48660914]]\n"
     ]
    }
   ],
   "source": [
    "hyperparams = {\n",
    "    'n_runners': 10,\n",
    "    'sample_size': 5,\n",
    "    'rounds': 100,\n",
    "    'combine': 'weighted', # or 'mean'\n",
    "    'partition_params': {\n",
    "        'scheme': 'uniform' # stratified, non-iidness, noise injection etc.\n",
    "    },\n",
    "    'runner_hyperparams': {\n",
    "        'epochs': 1,\n",
    "        'lr': 0.15,\n",
    "        'batch_size': 0\n",
    "    }\n",
    "}\n",
    "\n",
    "fed_avg = FedAvg(**hyperparams)\n",
    "fed_avg.fit(X_train, y_train)\n",
    "preds = fed_avg.predict(X_test)\n",
    "\n",
    "print(classification_report(y_test, preds, target_names=['class_0', 'class_1']))\n",
    "print(fed_avg.intercept_)\n",
    "print(fed_avg.coef_)"
   ]
  },
  {
   "cell_type": "markdown",
   "metadata": {},
   "source": [
    "## Experiments"
   ]
  },
  {
   "cell_type": "code",
   "execution_count": 20,
   "metadata": {},
   "outputs": [],
   "source": [
    "def grid_search_trials(params, trials, x, y, param='sample_size'):\n",
    "    best = []\n",
    "    for i in range(trials):\n",
    "        print(\"trial\", i)\n",
    "        clf = GridSearchCV(FedAvg(), params, scoring='f1')\n",
    "        clf.fit(x, y)\n",
    "        best_model = clf.best_estimator_\n",
    "        best.append(clf.best_params_[param])\n",
    "    values, counts = np.unique(best, return_counts=True)\n",
    "    return values, counts"
   ]
  },
  {
   "cell_type": "markdown",
   "metadata": {},
   "source": [
    "### Sample size (FedSDG)\n",
    "In FedAvg/FedSDG, a subset of runners are sampled between rounds. Idea here is that a small sample size may actually be of benefit in the same way that shuffling/batch sizes are in SDG. This is not the case: best to sample as many runners as possible between rounds."
   ]
  },
  {
   "cell_type": "code",
   "execution_count": 22,
   "metadata": {},
   "outputs": [
    {
     "name": "stdout",
     "output_type": "stream",
     "text": [
      "trial 0\n",
      "trial 1\n",
      "trial 2\n",
      "trial 3\n",
      "trial 4\n",
      "trial 5\n",
      "trial 6\n",
      "trial 7\n",
      "trial 8\n",
      "trial 9\n",
      "trial 10\n",
      "trial 11\n",
      "trial 12\n",
      "trial 13\n",
      "trial 14\n",
      "trial 15\n",
      "trial 16\n",
      "trial 17\n",
      "trial 18\n",
      "trial 19\n",
      "trial 20\n",
      "trial 21\n",
      "trial 22\n",
      "trial 23\n",
      "trial 24\n",
      "trial 25\n",
      "trial 26\n",
      "trial 27\n",
      "trial 28\n",
      "trial 29\n",
      "trial 30\n",
      "trial 31\n",
      "trial 32\n",
      "trial 33\n",
      "trial 34\n",
      "trial 35\n",
      "trial 36\n",
      "trial 37\n",
      "trial 38\n",
      "trial 39\n",
      "trial 40\n",
      "trial 41\n",
      "trial 42\n",
      "trial 43\n",
      "trial 44\n",
      "trial 45\n",
      "trial 46\n",
      "trial 47\n",
      "trial 48\n",
      "trial 49\n",
      "trial 50\n",
      "trial 51\n",
      "trial 52\n",
      "trial 53\n",
      "trial 54\n",
      "trial 55\n",
      "trial 56\n",
      "trial 57\n",
      "trial 58\n",
      "trial 59\n",
      "trial 60\n",
      "trial 61\n",
      "trial 62\n",
      "trial 63\n",
      "trial 64\n",
      "trial 65\n",
      "trial 66\n",
      "trial 67\n",
      "trial 68\n",
      "trial 69\n",
      "trial 70\n",
      "trial 71\n",
      "trial 72\n",
      "trial 73\n",
      "trial 74\n",
      "trial 75\n",
      "trial 76\n",
      "trial 77\n",
      "trial 78\n",
      "trial 79\n",
      "trial 80\n",
      "trial 81\n",
      "trial 82\n",
      "trial 83\n",
      "trial 84\n",
      "trial 85\n",
      "trial 86\n",
      "trial 87\n",
      "trial 88\n",
      "trial 89\n",
      "trial 90\n",
      "trial 91\n",
      "trial 92\n",
      "trial 93\n",
      "trial 94\n",
      "trial 95\n",
      "trial 96\n",
      "trial 97\n",
      "trial 98\n",
      "trial 99\n"
     ]
    }
   ],
   "source": [
    "tuned_parameters = [{\n",
    "    'n_runners': [10],\n",
    "    'sample_size': [1,2,3,4,5,6,7,8,9,10],\n",
    "    'rounds': [10],\n",
    "    'combine': ['weighted'], # or 'mean'\n",
    "    'partition_params': [{\n",
    "        'scheme': 'uniform' # stratified, non-iidness, noise injection etc.\n",
    "    }],\n",
    "    'runner_hyperparams': [{\n",
    "        'epochs': 1,\n",
    "        'lr': 0.15,\n",
    "        'batch_size': 0\n",
    "    }]\n",
    "}]\n",
    " \n",
    "values, counts = grid_search_trials(tuned_parameters, 100, X_train, y_train)"
   ]
  },
  {
   "cell_type": "code",
   "execution_count": 29,
   "metadata": {},
   "outputs": [],
   "source": [
    "counts = counts/sum(counts)"
   ]
  },
  {
   "cell_type": "markdown",
   "metadata": {},
   "source": [
    "Sample size FedAvg"
   ]
  },
  {
   "cell_type": "code",
   "execution_count": 40,
   "metadata": {},
   "outputs": [
    {
     "name": "stderr",
     "output_type": "stream",
     "text": [
      "No handles with labels found to put in legend.\n"
     ]
    },
    {
     "data": {
      "text/plain": [
       "<matplotlib.axes._subplots.AxesSubplot at 0x7f2dbd5f5080>"
      ]
     },
     "execution_count": 40,
     "metadata": {},
     "output_type": "execute_result"
    },
    {
     "data": {
      "image/png": "[encoded data removed]",
      "text/plain": [
       "<Figure size 432x288 with 1 Axes>"
      ]
     },
     "metadata": {
      "needs_background": "light"
     },
     "output_type": "display_data"
    }
   ],
   "source": [
    "ax = sns.barplot(x=values, y=counts*100)\n",
    "ax.set(xlabel='Number of randomly selected silos', ylabel='Times model was best scoring (%)')\n",
    "ax.legend()\n",
    "ax.set_title('Randomly selecting silos between training rounds and model quality')\n",
    "ax\n",
    "\n",
    "# fig = ax.get_figure()\n",
    "# fig.savefig('/tmp/x.png')"
   ]
  },
  {
   "cell_type": "markdown",
   "metadata": {},
   "source": [
    "### Under what conditions does FedAvg perform well?\n",
    "What is the performance of the fedavg model vs the best performing locally trained model?\n",
    "* Train a FedAvg model, test it over hold-out-data, get F1 score.\n",
    "* Test it's local models on hold-out data, store average F1 score.\n",
    "* Repeat 100 times to get a sample."
   ]
  },
  {
   "cell_type": "code",
   "execution_count": 28,
   "metadata": {},
   "outputs": [
    {
     "name": "stdout",
     "output_type": "stream",
     "text": [
      "local mean models =  0.6810874219564007\n",
      "local max models =  0.7262595619287522\n",
      "fedAvg model =  0.7256379651146154\n"
     ]
    }
   ],
   "source": [
    "hyperparams = {\n",
    "    'n_runners': 10,\n",
    "    'sample_size': 10,\n",
    "    'rounds': 1,\n",
    "    'combine': 'weighted', # or 'mean'\n",
    "    'partition_params': {\n",
    "        'scheme': 'uniform' # stratified, non-iidness, noise injection etc.\n",
    "    },\n",
    "    'runner_hyperparams': {\n",
    "        'epochs': 10,\n",
    "        'lr': 0.15,\n",
    "        'batch_size': 0\n",
    "    }\n",
    "}\n",
    "\n",
    "local_mean_f1_scores = []\n",
    "local_max_f1_scores = []\n",
    "fed_avg_f1_scores = []\n",
    "for i in range(0, 100):\n",
    "    fed_avg = FedAvg(**hyperparams)\n",
    "    fed_avg.fit(X_train, y_train)\n",
    "    preds = fed_avg.predict(X_test)\n",
    "    fed_avg_f1_scores.append(f1_score(y_test, preds, average='weighted'))\n",
    "    tmp = []\n",
    "    for model in fed_avg.models:\n",
    "        local_pred = model.predict(X_test)\n",
    "        tmp.append(f1_score(y_test, local_pred, average='weighted'))\n",
    "    local_mean_f1_scores.append(np.mean(tmp))\n",
    "    local_max_f1_scores.append(np.max(tmp))\n",
    "    \n",
    "print(\"local mean models = \", np.mean(local_mean_f1_scores))\n",
    "print(\"local max models = \", np.mean(local_max_f1_scores))\n",
    "print(\"fedAvg model = \", np.mean(fed_avg_f1_scores)) "
   ]
  },
  {
   "cell_type": "markdown",
   "metadata": {},
   "source": [
    "With uniform/iid data, FedAvg outperforms locally trained models on average. This shows the distribution of FedAvg F1 scores (orange) vs the distribution of (average) locally trained models F1 score."
   ]
  },
  {
   "cell_type": "code",
   "execution_count": 29,
   "metadata": {},
   "outputs": [
    {
     "name": "stderr",
     "output_type": "stream",
     "text": [
      "No handles with labels found to put in legend.\n"
     ]
    },
    {
     "data": {
      "text/plain": [
       "<matplotlib.axes._subplots.AxesSubplot at 0x7f89ac5ac6d0>"
      ]
     },
     "execution_count": 29,
     "metadata": {},
     "output_type": "execute_result"
    },
    {
     "data": {
      "image/png": "[encoded data removed]",
      "text/plain": [
       "<Figure size 432x288 with 1 Axes>"
      ]
     },
     "metadata": {
      "needs_background": "light"
     },
     "output_type": "display_data"
    }
   ],
   "source": [
    "fig, ax = plt.subplots()\n",
    "ax.set(xlabel='F1-score', ylabel='Frequency')\n",
    "ax.legend()\n",
    "ax.set_title('FevAvg vs local model performance')\n",
    "sns.distplot(local_mean_f1_scores, ax=ax, kde=True)\n",
    "sns.distplot(fed_avg_f1_scores, ax=ax, kde=True)\n",
    "\n",
    "#fig.savefig('/tmp/x1.png')"
   ]
  },
  {
   "cell_type": "code",
   "execution_count": 30,
   "metadata": {},
   "outputs": [
    {
     "name": "stdout",
     "output_type": "stream",
     "text": [
      "statistically significant: True\n",
      "p = 4.331034800669983e-69\n"
     ]
    }
   ],
   "source": [
    "ttest, pval = ttest_ind(local_mean_f1_scores, fed_avg_f1_scores)\n",
    "print(\"statistically significant:\", pval < 0.05)\n",
    "print(\"p =\", pval)"
   ]
  },
  {
   "cell_type": "markdown",
   "metadata": {},
   "source": [
    "On average, the FedAvg model is _as good_ as the best perfoming locally trained model."
   ]
  },
  {
   "cell_type": "code",
   "execution_count": 31,
   "metadata": {},
   "outputs": [
    {
     "name": "stderr",
     "output_type": "stream",
     "text": [
      "No handles with labels found to put in legend.\n"
     ]
    },
    {
     "data": {
      "text/plain": [
       "<matplotlib.axes._subplots.AxesSubplot at 0x7f89ac4db7f0>"
      ]
     },
     "execution_count": 31,
     "metadata": {},
     "output_type": "execute_result"
    },
    {
     "data": {
      "image/png": "[encoded data removed]",
      "text/plain": [
       "<Figure size 432x288 with 1 Axes>"
      ]
     },
     "metadata": {
      "needs_background": "light"
     },
     "output_type": "display_data"
    }
   ],
   "source": [
    "fig, ax = plt.subplots()\n",
    "ax.set(xlabel='F1-score', ylabel='Frequency')\n",
    "ax.legend()\n",
    "ax.set_title('FevAvg vs (best) local model performance')\n",
    "sns.distplot(local_max_f1_scores, ax=ax, kde=True)\n",
    "sns.distplot(fed_avg_f1_scores, ax=ax, kde=True)\n",
    "\n",
    "#fig.savefig('/tmp/x2.png')"
   ]
  },
  {
   "cell_type": "code",
   "execution_count": 32,
   "metadata": {},
   "outputs": [
    {
     "name": "stdout",
     "output_type": "stream",
     "text": [
      "statistically significant: False\n",
      "p = 0.5746456473126802\n"
     ]
    }
   ],
   "source": [
    "ttest, pval = ttest_ind(local_max_f1_scores, fed_avg_f1_scores)\n",
    "print(\"statistically significant:\", pval < 0.05)\n",
    "print(\"p =\", pval)"
   ]
  },
  {
   "cell_type": "markdown",
   "metadata": {},
   "source": [
    "## Non-IID data"
   ]
  },
  {
   "cell_type": "markdown",
   "metadata": {},
   "source": [
    "https://arxiv.org/pdf/1910.00189.pdf\n",
    "\n",
    "regimes of non-iid data.\n",
    "\n",
    "non-IID-ness can occur over both time (often called concept drift) and space (geo-location).\n",
    "\n",
    "### Violations of Independence\n",
    "\n",
    "(deviate from being independently drawn from an overall distribution)\n",
    "\n",
    "* Intra-partition correlation: consecutive frames in a video.\n",
    "* Inter-partition correlation: devices sharing a common feature - e.g., temperature.\n",
    "\n",
    "### Violations of Identicalness\n",
    "\n",
    "(data tend to deviate from being identically distributed)\n",
    "\n",
    "* __Quantity skew__: Different partitions can hold vastly different amounts of data.\n",
    "* __Label distribution skew__: kangaroos are only in Australia or zoos.\n",
    "* Same label, different features: images of parked cars in the winter will be snow-covered only in certain places.\n",
    "* Same features, different label: sentiment or next word predictors."
   ]
  },
  {
   "cell_type": "markdown",
   "metadata": {},
   "source": [
    "### How robust is FedAvg to non-iid data?\n",
    "\n",
    "* Run FedAvg over different levels of label skew.\n",
    "* See how it compares to locally trained models"
   ]
  },
  {
   "cell_type": "code",
   "execution_count": 33,
   "metadata": {},
   "outputs": [],
   "source": [
    "def compare_f1(hyperparams, rounds=1):\n",
    "    local_mean_f1_scores = []\n",
    "    local_max_f1_scores = []\n",
    "    fed_avg_f1_scores = []\n",
    "    for i in range(0, rounds):\n",
    "        fed_avg = FedAvg(**hyperparams)\n",
    "        fed_avg.fit(X_train, y_train)\n",
    "        preds = fed_avg.predict(X_test)\n",
    "        fed_avg_f1_scores.append(f1_score(y_test, preds, average='weighted'))\n",
    "        tmp = []\n",
    "        for model in fed_avg.models:\n",
    "            local_pred = model.predict(X_test)\n",
    "            tmp.append(f1_score(y_test, local_pred, average='weighted'))\n",
    "        local_mean_f1_scores.append(np.mean(tmp))\n",
    "        local_max_f1_scores.append(np.max(tmp))\n",
    "    return np.mean(local_mean_f1_scores), np.mean(local_max_f1_scores), np.mean(fed_avg_f1_scores)"
   ]
  },
  {
   "cell_type": "code",
   "execution_count": 38,
   "metadata": {},
   "outputs": [
    {
     "name": "stdout",
     "output_type": "stream",
     "text": [
      "eval 0\n",
      "eval 0.1\n",
      "eval 0.2\n",
      "eval 0.3\n",
      "eval 0.4\n",
      "eval 0.5\n",
      "eval 0.6\n",
      "eval 0.7\n",
      "eval 0.8\n",
      "eval 0.9\n",
      "eval 0.99\n"
     ]
    }
   ],
   "source": [
    "skews = [0, 0.1, 0.2, 0.3, 0.4, 0.5, 0.6, 0.7, 0.8, 0.9, 0.99]\n",
    "scores = {}\n",
    "for skew in skews:\n",
    "    print(\"eval\", skew)\n",
    "    hyperparams = {\n",
    "        'n_runners': 10,\n",
    "        'sample_size': 10,\n",
    "        'rounds': 1,\n",
    "        'combine': 'weighted', # or 'mean'\n",
    "        'partition_params': {\n",
    "            'scheme': 'label-skew', # uniform, label-skew\n",
    "            'args': {\n",
    "                'randomise': True,\n",
    "                'skew': skew\n",
    "            }\n",
    "        },\n",
    "        'runner_hyperparams': {\n",
    "            'epochs': 10,\n",
    "            'lr': 0.15,\n",
    "            'batch_size': 0\n",
    "        }\n",
    "    }\n",
    "    local_mean_f1_scores, local_max_f1_scores, fed_avg_f1_scores = compare_f1(hyperparams, 10)\n",
    "    scores[str(skew)] = (local_mean_f1_scores, local_max_f1_scores, fed_avg_f1_scores)"
   ]
  },
  {
   "cell_type": "code",
   "execution_count": 39,
   "metadata": {},
   "outputs": [
    {
     "name": "stdout",
     "output_type": "stream",
     "text": [
      "(0.6730354545995075, 0.7262325487368181, 0.7190255224888021)\n",
      "(0.6675646751964581, 0.7215024737444995, 0.7181067557326472)\n",
      "(0.6673130955821208, 0.7175421354178082, 0.7207543320136839)\n",
      "(0.6347110907444508, 0.7075450932226984, 0.7245391648985402)\n",
      "(0.6130402706649379, 0.7100057916742455, 0.7230866765639122)\n",
      "(0.5709980451671371, 0.6694224164163012, 0.7201967419190872)\n",
      "(0.5233749603071455, 0.6441471276346273, 0.720542964527233)\n",
      "(0.4567993613698027, 0.6035446703146672, 0.7147541041702608)\n",
      "(0.421805766740133, 0.5455859124046479, 0.7089458102348567)\n",
      "(0.35977837974263704, 0.47342117621243585, 0.698522757577117)\n",
      "(0.3349467211988202, 0.3455821600558352, 0.5941153811710282)\n"
     ]
    }
   ],
   "source": [
    "for score in scores.values():\n",
    "    print(score)"
   ]
  },
  {
   "cell_type": "code",
   "execution_count": 40,
   "metadata": {},
   "outputs": [],
   "source": [
    "local_mean_f1_scores = [score[0] for score in scores.values()]\n",
    "local_max_f1_scores = [score[1] for score in scores.values()]\n",
    "fed_avg_f1_scores = [score[2] for score in scores.values()]"
   ]
  },
  {
   "cell_type": "code",
   "execution_count": 41,
   "metadata": {},
   "outputs": [
    {
     "name": "stderr",
     "output_type": "stream",
     "text": [
      "No handles with labels found to put in legend.\n"
     ]
    },
    {
     "data": {
      "text/plain": [
       "<matplotlib.axes._subplots.AxesSubplot at 0x7f89ac3d3730>"
      ]
     },
     "execution_count": 41,
     "metadata": {},
     "output_type": "execute_result"
    },
    {
     "data": {
      "image/png": "[encoded data removed]",
      "text/plain": [
       "<Figure size 432x288 with 1 Axes>"
      ]
     },
     "metadata": {
      "needs_background": "light"
     },
     "output_type": "display_data"
    }
   ],
   "source": [
    "fig, ax = plt.subplots()\n",
    "ax.set(xlabel='Skew level (non-iidness)', ylabel='F1 score')\n",
    "ax.legend()\n",
    "ax.set_title('FevAvg vs local models at increasing levels of non-iidness')\n",
    "sns.lineplot(x=['0%', '10%', '20%', '30%', '40%', '50%', '60%', '70%', '80%', '90%', '99%'], y=local_mean_f1_scores, ax=ax, label='Mean local model score')\n",
    "sns.lineplot(x=['0%', '10%', '20%', '30%', '40%', '50%', '60%', '70%', '80%', '90%', '99%'], y=local_max_f1_scores, ax=ax, label='Best performing local model score')\n",
    "sns.lineplot(x=['0%', '10%', '20%', '30%', '40%', '50%', '60%', '70%', '80%', '90%', '99%'], y=fed_avg_f1_scores, ax=ax, label='FedAvg model score')\n",
    "#fig.savefig('/tmp/x.png')"
   ]
  },
  {
   "cell_type": "markdown",
   "metadata": {},
   "source": [
    "The above plot shows that FedAvg (green) consistently outperforms locally trained models under varying degrees of label distribution skew.\n",
    "\n",
    "* FedAvg always outperforms the average F1 score from locally trained models (blue)\n",
    "* Up until ~40% label skew, the best locally trained model is on-par with the FedAvg model. After this point, FedAvg clearly has an advantage - consistently outperforming with a gradual decrease in performance (by comparison with local models) as the level of non-iidness is increased."
   ]
  },
  {
   "cell_type": "code",
   "execution_count": null,
   "metadata": {},
   "outputs": [],
   "source": []
  }
 ],
 "metadata": {
  "kernelspec": {
   "display_name": "Python 3",
   "language": "python",
   "name": "python3"
  },
  "language_info": {
   "codemirror_mode": {
    "name": "ipython",
    "version": 3
   },
   "file_extension": ".py",
   "mimetype": "text/x-python",
   "name": "python",
   "nbconvert_exporter": "python",
   "pygments_lexer": "ipython3",
   "version": "3.8.3"
  }
 },
 "nbformat": 4,
 "nbformat_minor": 2
}
